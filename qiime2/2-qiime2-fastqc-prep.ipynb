{
 "cells": [
  {
   "cell_type": "markdown",
   "metadata": {},
   "source": [
    "# **Generating Taxonomic Profile from Microbiome Data**"
   ]
  },
  {
   "cell_type": "markdown",
   "metadata": {},
   "source": [
    "## **1. Importing data (generate artifact)**"
   ]
  },
  {
   "cell_type": "code",
   "execution_count": 5,
   "metadata": {},
   "outputs": [
    {
     "name": "stdout",
     "output_type": "stream",
     "text": [
      "\u001b[32mImported manifest.tsv as SingleEndFastqManifestPhred33V2 to sequences.qza\u001b[0m\n",
      "\u001b[0m"
     ]
    }
   ],
   "source": [
    "##### FASTAQ to Artifact #####\n",
    "# import the fasta files into a QIIME2 artifact\n",
    "!qiime tools import \\\n",
    "  --type 'SampleData[SequencesWithQuality]' \\\n",
    "  --input-format SingleEndFastqManifestPhred33V2 \\\n",
    "  --input-path manifest.tsv \\\n",
    "  --output-path sequences.qza"
   ]
  },
  {
   "cell_type": "code",
   "execution_count": 6,
   "metadata": {},
   "outputs": [
    {
     "name": "stdout",
     "output_type": "stream",
     "text": [
      "\u001b[32mSaved Visualization to: qualities.qzv\u001b[0m\n",
      "\u001b[0m"
     ]
    }
   ],
   "source": [
    "##### Artifact to Visualization #####\n",
    "# QIIME to visualize our sequencing data.\n",
    "!qiime demux summarize \\\n",
    "\t--i-data sequences.qza \\\n",
    "\t--o-visualization qualities.qzv"
   ]
  },
  {
   "cell_type": "code",
   "execution_count": 159,
   "metadata": {},
   "outputs": [
    {
     "name": "stdout",
     "output_type": "stream",
     "text": [
      "Press the 'q' key, Control-C, or Control-D to quit. This view may no longer be accessible or work correctly after quitting.Opening in existing browser session.\n",
      "\n",
      "Press the 'q' key, Control-C, or Control-D to quit. This view may no longer be accessible or work correctly after quitting."
     ]
    }
   ],
   "source": [
    "# visualize\n",
    "!qiime tools view qualities.qzv"
   ]
  },
  {
   "cell_type": "markdown",
   "metadata": {},
   "source": [
    "## **2. Denoise/Demultiplex data**"
   ]
  },
  {
   "cell_type": "code",
   "execution_count": 8,
   "metadata": {},
   "outputs": [
    {
     "name": "stdout",
     "output_type": "stream",
     "text": [
      "Running external command line application(s). This may print messages to stdout and/or stderr.\n",
      "The command(s) being run are below. These commands cannot be manually re-run as they will depend on temporary files that no longer exist.\n",
      "\n",
      "Command: run_dada.R --input_directory /tmp/qiime2/davo/data/356c47dc-2fe3-48f9-a044-3371720cda23/data --output_path /tmp/tmpbptgo5n3/output.tsv.biom --output_track /tmp/tmpbptgo5n3/track.tsv --filtered_directory /tmp/tmpbptgo5n3 --truncation_length 250 --trim_left 0 --max_expected_errors 2.0 --truncation_quality_score 2 --max_length Inf --pooling_method independent --chimera_method consensus --min_parental_fold 1.0 --allow_one_off False --num_threads 4 --learn_min_reads 1000000 --homopolymer_gap_penalty NULL --band_size 16\n",
      "\n",
      "R version 4.3.3 (2024-02-29) \n",
      "Loading required package: Rcpp\n",
      "\u001b[?25hDADA2: 1.30.0 / Rcpp: 1.0.13.1 / RcppParallel: 5.1.9 \n",
      "\u001b[?25h\u001b[?25h2) Filtering \u001b[?25h\u001b[?25h..................................................................................................................................................................................\u001b[?25h\u001b[?25h\u001b[?25h\n",
      "\u001b[?25h\u001b[?25h3) Learning Error Rates\n",
      "\u001b[?25h259935750 total bases in 1039743 reads from 53 samples will be used for learning the error rates.\n",
      "\u001b[?25h4) Denoise samples \n",
      "..................................................................................................................................................................................\n",
      "\u001b[?25h5) Remove chimeras (method = consensus)\n",
      "\u001b[?25h\u001b[?25h6) Report read numbers through the pipeline\n",
      "\u001b[?25h\u001b[?25h7) Write output\n",
      "\u001b[?25h\u001b[?25h\u001b[?25h\u001b[?25h\u001b[?25h\u001b[?25h\u001b[?25h\u001b[32mSaved FeatureTable[Frequency] to: dada/table.qza\u001b[0m\n",
      "\u001b[32mSaved FeatureData[Sequence] to: dada/representative_sequences.qza\u001b[0m\n",
      "\u001b[32mSaved SampleData[DADA2Stats] to: dada/denoising_stats.qza\u001b[0m\n",
      "\u001b[0m"
     ]
    }
   ],
   "source": [
    "##### Quality Filtering: From Sequence to ASV ##### Change the trunc-len to 250\n",
    "!qiime dada2 denoise-single \\\n",
    "    --i-demultiplexed-seqs sequences.qza \\\n",
    "    --p-trunc-len 250 \\\n",
    "    --p-n-threads 4 \\\n",
    "    --output-dir dada --verbose"
   ]
  },
  {
   "cell_type": "markdown",
   "metadata": {},
   "source": [
    "## **3. Generating Feature table (OTU)**"
   ]
  },
  {
   "cell_type": "code",
   "execution_count": 9,
   "metadata": {},
   "outputs": [
    {
     "name": "stdout",
     "output_type": "stream",
     "text": [
      "\u001b[32mSaved Visualization to: denoising-stats.qzv\u001b[0m\n",
      "\u001b[0m"
     ]
    }
   ],
   "source": [
    "# Denoising statistics\n",
    "!qiime metadata tabulate \\\n",
    "    --m-input-file dada/denoising_stats.qza \\\n",
    "    --o-visualization denoising-stats.qzv"
   ]
  },
  {
   "cell_type": "code",
   "execution_count": 160,
   "metadata": {},
   "outputs": [
    {
     "name": "stdout",
     "output_type": "stream",
     "text": [
      "Press the 'q' key, Control-C, or Control-D to quit. This view may no longer be accessible or work correctly after quitting.Opening in existing browser session.\n",
      "\n",
      "Press the 'q' key, Control-C, or Control-D to quit. This view may no longer be accessible or work correctly after quitting."
     ]
    }
   ],
   "source": [
    "# visualize \n",
    "!qiime tools view denoising-stats.qzv"
   ]
  },
  {
   "cell_type": "code",
   "execution_count": 10,
   "metadata": {},
   "outputs": [
    {
     "name": "stdout",
     "output_type": "stream",
     "text": [
      "\u001b[32mSaved Visualization to: ./dada_freqtable.qzv\u001b[0m\n",
      "\u001b[0m"
     ]
    }
   ],
   "source": [
    "# Feature table summary\n",
    "!qiime feature-table summarize \\\n",
    "  --i-table ./dada/table.qza \\\n",
    "  --m-sample-metadata-file ./metadata.tsv \\\n",
    "  --o-visualization ./dada_freqtable.qzv"
   ]
  },
  {
   "cell_type": "code",
   "execution_count": 161,
   "metadata": {},
   "outputs": [
    {
     "name": "stdout",
     "output_type": "stream",
     "text": [
      "Press the 'q' key, Control-C, or Control-D to quit. This view may no longer be accessible or work correctly after quitting.Opening in existing browser session.\n",
      "\n",
      "Press the 'q' key, Control-C, or Control-D to quit. This view may no longer be accessible or work correctly after quitting."
     ]
    }
   ],
   "source": [
    "# visualize \n",
    "!qiime tools view ./dada_freqtable.qzv"
   ]
  },
  {
   "cell_type": "code",
   "execution_count": 162,
   "metadata": {},
   "outputs": [
    {
     "name": "stdout",
     "output_type": "stream",
     "text": [
      "\u001b[32mExported dada/table.qza as BIOMV210DirFmt to directory exported_table\u001b[0m\n",
      "\u001b[0m"
     ]
    }
   ],
   "source": [
    "# Export feature table\n",
    "!qiime tools export \\\n",
    "  --input-path dada/table.qza \\\n",
    "  --output-path exported_table"
   ]
  },
  {
   "cell_type": "markdown",
   "metadata": {},
   "source": [
    "## **4. Taxonomic Classification (math features to labels)**"
   ]
  },
  {
   "cell_type": "markdown",
   "metadata": {},
   "source": [
    "### **a. Silva 138 99% OTUs full-length sequences**"
   ]
  },
  {
   "cell_type": "code",
   "execution_count": null,
   "metadata": {},
   "outputs": [
    {
     "name": "stdout",
     "output_type": "stream",
     "text": [
      "2024-12-08 05:50:58 URL:https://s3-us-west-2.amazonaws.com/qiime2-data/classifiers/sklearn-1.4.2/silva/silva-138-99-nb-classifier.qza [218245868/218245868] -> \"silva-138-99-515-806-nb-classifier.qza\" [1]\n"
     ]
    }
   ],
   "source": [
    "# get the classifier\n",
    "!wget -nv -O \\\n",
    "  \"classifier/silva-138-99-nb-classifier.qza\" \\\n",
    "  \"https://data.qiime2.org/classifiers/sklearn-1.4.2/silva/silva-138-99-nb-classifier.qza\""
   ]
  },
  {
   "cell_type": "code",
   "execution_count": 163,
   "metadata": {},
   "outputs": [
    {
     "name": "stdout",
     "output_type": "stream",
     "text": [
      "\u001b[32mSaved FeatureData[Taxonomy] to: silva-taxonomy.qza\u001b[0m\n",
      "\u001b[0m"
     ]
    }
   ],
   "source": [
    "# Get taxonomic OTU\n",
    "!qiime feature-classifier classify-sklearn \\\n",
    "  --i-classifier classifier/silva-138-99-nb-classifier.qza \\\n",
    "  --i-reads ./dada/representative_sequences.qza \\\n",
    "  --o-classification silva-taxonomy.qza"
   ]
  },
  {
   "cell_type": "code",
   "execution_count": 164,
   "metadata": {},
   "outputs": [
    {
     "name": "stdout",
     "output_type": "stream",
     "text": [
      "\u001b[32mExported silva-taxonomy.qza as TSVTaxonomyDirectoryFormat to directory exported_table\u001b[0m\n",
      "\u001b[0m"
     ]
    }
   ],
   "source": [
    "# Export TSV\n",
    "!qiime tools export \\\n",
    "  --input-path silva-taxonomy.qza \\\n",
    "  --output-path exported_table"
   ]
  },
  {
   "cell_type": "code",
   "execution_count": 3,
   "metadata": {},
   "outputs": [
    {
     "name": "stdout",
     "output_type": "stream",
     "text": [
      "\u001b[32mSaved Visualization to: genus-table-summary.qzv\u001b[0m\n",
      "\u001b[0m"
     ]
    }
   ],
   "source": [
    "!qiime feature-table summarize \\\n",
    "  --i-table genus-table.qza \\\n",
    "  --o-visualization genus-table-summary.qzv"
   ]
  },
  {
   "cell_type": "code",
   "execution_count": 4,
   "metadata": {},
   "outputs": [
    {
     "name": "stdout",
     "output_type": "stream",
     "text": [
      "Press the 'q' key, Control-C, or Control-D to quit. This view may no longer be accessible or work correctly after quitting.Opening in existing browser session.\n",
      "\n",
      "Press the 'q' key, Control-C, or Control-D to quit. This view may no longer be accessible or work correctly after quitting."
     ]
    }
   ],
   "source": [
    "# visualize empress\n",
    "!qiime tools view genus-table-summary.qzv"
   ]
  },
  {
   "cell_type": "code",
   "execution_count": 2,
   "metadata": {},
   "outputs": [
    {
     "name": "stdout",
     "output_type": "stream",
     "text": [
      "\u001b[32mSaved FeatureTable[Frequency] to: genus-table.qza\u001b[0m\n",
      "\u001b[0m"
     ]
    }
   ],
   "source": [
    "# genus strata\n",
    "!qiime taxa collapse \\\n",
    "  --i-table ./dada/table.qza \\\n",
    "  --i-taxonomy silva-taxonomy.qza \\\n",
    "  --p-level 6 \\\n",
    "  --o-collapsed-table genus-table.qza"
   ]
  },
  {
   "cell_type": "code",
   "execution_count": null,
   "metadata": {},
   "outputs": [
    {
     "name": "stdout",
     "output_type": "stream",
     "text": [
      "\u001b[32mSaved Visualization to: taxa-barplot.qzv\u001b[0m\n",
      "\u001b[0m"
     ]
    }
   ],
   "source": [
    "# generate vizualization\n",
    "!qiime taxa barplot \\\n",
    "  --i-table ./dada/table.qza  \\\n",
    "  --i-taxonomy silva-taxonomy.qza \\\n",
    "  --m-metadata-file metadata.tsv \\\n",
    "  --o-visualization taxa-barplot.qzv"
   ]
  },
  {
   "cell_type": "code",
   "execution_count": 218,
   "metadata": {},
   "outputs": [
    {
     "name": "stdout",
     "output_type": "stream",
     "text": [
      "Press the 'q' key, Control-C, or Control-D to quit. This view may no longer be accessible or work correctly after quitting.Opening in existing browser session.\n",
      "\n",
      "Press the 'q' key, Control-C, or Control-D to quit. This view may no longer be accessible or work correctly after quitting."
     ]
    }
   ],
   "source": [
    "# visualize empress\n",
    "!qiime tools view taxa-barplot.qzv"
   ]
  },
  {
   "cell_type": "markdown",
   "metadata": {},
   "source": [
    "#### Get table for model"
   ]
  },
  {
   "cell_type": "code",
   "execution_count": 1,
   "metadata": {},
   "outputs": [],
   "source": [
    "### Combine OTU and Taxonomy data\n",
    "import biom\n",
    "import pandas as pd\n",
    "import numpy as np\n",
    "\n",
    "# Load the OTU table\n",
    "otu = biom.load_table('exported_table/feature-table.biom')\n",
    "otu = otu.to_dataframe()\n",
    "\n",
    "# Load the taxonomy table\n",
    "taxonomy = pd.read_csv('exported_table/taxonomy.tsv', sep='\\t', index_col=0)\n",
    "\n",
    "# Merge the OTU table with the taxonomy table\n",
    "otu_taxonomy_merged = pd.merge(taxonomy, otu, left_index=True, right_index=True)\n",
    "\n",
    "# Save the merged table to a CSV file\n",
    "otu_taxonomy_merged.to_csv('otu_with_taxonomy.csv')\n"
   ]
  },
  {
   "cell_type": "code",
   "execution_count": 2,
   "metadata": {},
   "outputs": [],
   "source": [
    "# Split the 'Taxon' column into multiple columns\n",
    "df_split = otu_taxonomy_merged['Taxon'].str.split(';', expand=True)\n",
    "\n",
    "# Assign the split columns to the original dataframe\n",
    "columns_to_update = ['Domain', 'Phylum', 'Class', 'Order', 'Family', 'Genus', 'Species']\n",
    "otu_taxonomy_merged[columns_to_update] = df_split\n",
    "\n",
    "# Remove the first 3 characters from the specified columns\n",
    "otu_taxonomy_merged[columns_to_update] = otu_taxonomy_merged[columns_to_update].apply(lambda x: x.str.slice(3))\n",
    "\n",
    "# Replace empty strings with np.nan in the specified columns\n",
    "otu_taxonomy_merged[columns_to_update] = otu_taxonomy_merged[columns_to_update].replace('' or 'ssigned', None)"
   ]
  },
  {
   "cell_type": "code",
   "execution_count": 3,
   "metadata": {},
   "outputs": [
    {
     "data": {
      "text/html": [
       "<div>\n",
       "<style scoped>\n",
       "    .dataframe tbody tr th:only-of-type {\n",
       "        vertical-align: middle;\n",
       "    }\n",
       "\n",
       "    .dataframe tbody tr th {\n",
       "        vertical-align: top;\n",
       "    }\n",
       "\n",
       "    .dataframe thead th {\n",
       "        text-align: right;\n",
       "    }\n",
       "</style>\n",
       "<table border=\"1\" class=\"dataframe\">\n",
       "  <thead>\n",
       "    <tr style=\"text-align: right;\">\n",
       "      <th></th>\n",
       "      <th>Taxon</th>\n",
       "      <th>Domain</th>\n",
       "      <th>Phylum</th>\n",
       "      <th>Class</th>\n",
       "      <th>Order</th>\n",
       "      <th>Family</th>\n",
       "      <th>Genus</th>\n",
       "      <th>Species</th>\n",
       "      <th>Confidence</th>\n",
       "      <th>206534</th>\n",
       "      <th>...</th>\n",
       "      <th>222171</th>\n",
       "      <th>224323</th>\n",
       "      <th>224324</th>\n",
       "      <th>224325</th>\n",
       "      <th>224326</th>\n",
       "      <th>224327</th>\n",
       "      <th>224328</th>\n",
       "      <th>224330</th>\n",
       "      <th>224844</th>\n",
       "      <th>224845</th>\n",
       "    </tr>\n",
       "  </thead>\n",
       "  <tbody>\n",
       "    <tr>\n",
       "      <th>668fdb718997fc1589c7817655d4bb5f</th>\n",
       "      <td>d__Bacteria;p__Bacteroidota;c__Bacteroidia;o__...</td>\n",
       "      <td>Bacteria</td>\n",
       "      <td>Bacteroidota</td>\n",
       "      <td>Bacteroidia</td>\n",
       "      <td>Bacteroidales</td>\n",
       "      <td>Bacteroidaceae</td>\n",
       "      <td>Bacteroides</td>\n",
       "      <td></td>\n",
       "      <td>0.999984</td>\n",
       "      <td>6.0</td>\n",
       "      <td>...</td>\n",
       "      <td>0</td>\n",
       "      <td>8122.0</td>\n",
       "      <td>12783.0</td>\n",
       "      <td>6685.0</td>\n",
       "      <td>5904.0</td>\n",
       "      <td>10805.0</td>\n",
       "      <td>12100.0</td>\n",
       "      <td>17885.0</td>\n",
       "      <td>1708.0</td>\n",
       "      <td>6589.0</td>\n",
       "    </tr>\n",
       "    <tr>\n",
       "      <th>a3f36ef32153f2fc2aaeac2feb23777f</th>\n",
       "      <td>d__Bacteria;p__Firmicutes;c__Clostridia;o__Osc...</td>\n",
       "      <td>Bacteria</td>\n",
       "      <td>Firmicutes</td>\n",
       "      <td>Clostridia</td>\n",
       "      <td>Oscillospirales</td>\n",
       "      <td>Ruminococcaceae</td>\n",
       "      <td>Faecalibacterium</td>\n",
       "      <td></td>\n",
       "      <td>0.990108</td>\n",
       "      <td>482.0</td>\n",
       "      <td>...</td>\n",
       "      <td>843.0</td>\n",
       "      <td>5435.0</td>\n",
       "      <td>4024.0</td>\n",
       "      <td>1374.0</td>\n",
       "      <td>1739.0</td>\n",
       "      <td>6074.0</td>\n",
       "      <td>6076.0</td>\n",
       "      <td>2694.0</td>\n",
       "      <td>4684.0</td>\n",
       "      <td>9331.0</td>\n",
       "    </tr>\n",
       "    <tr>\n",
       "      <th>9496d87b94d90dff068f0716603930bd</th>\n",
       "      <td>d__Bacteria;p__Bacteroidota;c__Bacteroidia;o__...</td>\n",
       "      <td>Bacteria</td>\n",
       "      <td>Bacteroidota</td>\n",
       "      <td>Bacteroidia</td>\n",
       "      <td>Bacteroidales</td>\n",
       "      <td>Bacteroidaceae</td>\n",
       "      <td>Bacteroides</td>\n",
       "      <td></td>\n",
       "      <td>0.999978</td>\n",
       "      <td>11952.0</td>\n",
       "      <td>...</td>\n",
       "      <td>0</td>\n",
       "      <td>50.0</td>\n",
       "      <td>0</td>\n",
       "      <td>0</td>\n",
       "      <td>10.0</td>\n",
       "      <td>6495.0</td>\n",
       "      <td>8555.0</td>\n",
       "      <td>0</td>\n",
       "      <td>0</td>\n",
       "      <td>0</td>\n",
       "    </tr>\n",
       "    <tr>\n",
       "      <th>1b158b8b2922d4fcad5d9cea607cbb7d</th>\n",
       "      <td>d__Bacteria;p__Proteobacteria;c__Gammaproteoba...</td>\n",
       "      <td>Bacteria</td>\n",
       "      <td>Proteobacteria</td>\n",
       "      <td>Gammaproteobacteria</td>\n",
       "      <td>Enterobacterales</td>\n",
       "      <td>Enterobacteriaceae</td>\n",
       "      <td>Escherichia-Shigella</td>\n",
       "      <td></td>\n",
       "      <td>0.908560</td>\n",
       "      <td>1536.0</td>\n",
       "      <td>...</td>\n",
       "      <td>34.0</td>\n",
       "      <td>1926.0</td>\n",
       "      <td>2495.0</td>\n",
       "      <td>2329.0</td>\n",
       "      <td>2483.0</td>\n",
       "      <td>4712.0</td>\n",
       "      <td>4008.0</td>\n",
       "      <td>99.0</td>\n",
       "      <td>547.0</td>\n",
       "      <td>299.0</td>\n",
       "    </tr>\n",
       "    <tr>\n",
       "      <th>23fed68c6c76ab10ba1be8a43e9176e7</th>\n",
       "      <td>d__Bacteria;p__Firmicutes;c__Clostridia;o__Osc...</td>\n",
       "      <td>Bacteria</td>\n",
       "      <td>Firmicutes</td>\n",
       "      <td>Clostridia</td>\n",
       "      <td>Oscillospirales</td>\n",
       "      <td>Ruminococcaceae</td>\n",
       "      <td>Faecalibacterium</td>\n",
       "      <td></td>\n",
       "      <td>0.996007</td>\n",
       "      <td>0</td>\n",
       "      <td>...</td>\n",
       "      <td>522.0</td>\n",
       "      <td>33.0</td>\n",
       "      <td>36.0</td>\n",
       "      <td>2154.0</td>\n",
       "      <td>2414.0</td>\n",
       "      <td>471.0</td>\n",
       "      <td>313.0</td>\n",
       "      <td>13.0</td>\n",
       "      <td>441.0</td>\n",
       "      <td>1034.0</td>\n",
       "    </tr>\n",
       "    <tr>\n",
       "      <th>...</th>\n",
       "      <td>...</td>\n",
       "      <td>...</td>\n",
       "      <td>...</td>\n",
       "      <td>...</td>\n",
       "      <td>...</td>\n",
       "      <td>...</td>\n",
       "      <td>...</td>\n",
       "      <td>...</td>\n",
       "      <td>...</td>\n",
       "      <td>...</td>\n",
       "      <td>...</td>\n",
       "      <td>...</td>\n",
       "      <td>...</td>\n",
       "      <td>...</td>\n",
       "      <td>...</td>\n",
       "      <td>...</td>\n",
       "      <td>...</td>\n",
       "      <td>...</td>\n",
       "      <td>...</td>\n",
       "      <td>...</td>\n",
       "      <td>...</td>\n",
       "    </tr>\n",
       "    <tr>\n",
       "      <th>51946b237d59929b4f666bb5229fbacf</th>\n",
       "      <td>d__Bacteria;p__Firmicutes;c__Clostridia;o__Lac...</td>\n",
       "      <td>Bacteria</td>\n",
       "      <td>Firmicutes</td>\n",
       "      <td>Clostridia</td>\n",
       "      <td>Lachnospirales</td>\n",
       "      <td>Lachnospiraceae</td>\n",
       "      <td>Roseburia</td>\n",
       "      <td></td>\n",
       "      <td>0.765569</td>\n",
       "      <td>0</td>\n",
       "      <td>...</td>\n",
       "      <td>0</td>\n",
       "      <td>0</td>\n",
       "      <td>0</td>\n",
       "      <td>0</td>\n",
       "      <td>0</td>\n",
       "      <td>0</td>\n",
       "      <td>0</td>\n",
       "      <td>0</td>\n",
       "      <td>0</td>\n",
       "      <td>2.0</td>\n",
       "    </tr>\n",
       "    <tr>\n",
       "      <th>2707ca30f01ee8e07aa645b208068852</th>\n",
       "      <td>d__Bacteria;p__Proteobacteria;c__Gammaproteoba...</td>\n",
       "      <td>Bacteria</td>\n",
       "      <td>Proteobacteria</td>\n",
       "      <td>Gammaproteobacteria</td>\n",
       "      <td>Burkholderiales</td>\n",
       "      <td>Rhodocyclaceae</td>\n",
       "      <td>None</td>\n",
       "      <td>None</td>\n",
       "      <td>0.984180</td>\n",
       "      <td>0</td>\n",
       "      <td>...</td>\n",
       "      <td>0</td>\n",
       "      <td>0</td>\n",
       "      <td>0</td>\n",
       "      <td>0</td>\n",
       "      <td>0</td>\n",
       "      <td>0</td>\n",
       "      <td>0</td>\n",
       "      <td>0</td>\n",
       "      <td>0</td>\n",
       "      <td>2.0</td>\n",
       "    </tr>\n",
       "    <tr>\n",
       "      <th>46b10e705d5fbdc5c8d8f3a24249591e</th>\n",
       "      <td>d__Bacteria;p__Firmicutes;c__Clostridia;o__Chr...</td>\n",
       "      <td>Bacteria</td>\n",
       "      <td>Firmicutes</td>\n",
       "      <td>Clostridia</td>\n",
       "      <td>Christensenellales</td>\n",
       "      <td>Christensenellaceae</td>\n",
       "      <td>Christensenellaceae_R-7_group</td>\n",
       "      <td></td>\n",
       "      <td>0.822727</td>\n",
       "      <td>0</td>\n",
       "      <td>...</td>\n",
       "      <td>0</td>\n",
       "      <td>0</td>\n",
       "      <td>0</td>\n",
       "      <td>0</td>\n",
       "      <td>0</td>\n",
       "      <td>0</td>\n",
       "      <td>0</td>\n",
       "      <td>0</td>\n",
       "      <td>0</td>\n",
       "      <td>2.0</td>\n",
       "    </tr>\n",
       "    <tr>\n",
       "      <th>4c5ce916f019b3ba5d0fa994d24aee1a</th>\n",
       "      <td>d__Bacteria;p__Proteobacteria;c__Gammaproteoba...</td>\n",
       "      <td>Bacteria</td>\n",
       "      <td>Proteobacteria</td>\n",
       "      <td>Gammaproteobacteria</td>\n",
       "      <td>Burkholderiales</td>\n",
       "      <td>Sutterellaceae</td>\n",
       "      <td>Sutterella</td>\n",
       "      <td></td>\n",
       "      <td>0.988518</td>\n",
       "      <td>0</td>\n",
       "      <td>...</td>\n",
       "      <td>0</td>\n",
       "      <td>0</td>\n",
       "      <td>0</td>\n",
       "      <td>0</td>\n",
       "      <td>0</td>\n",
       "      <td>0</td>\n",
       "      <td>0</td>\n",
       "      <td>0</td>\n",
       "      <td>0</td>\n",
       "      <td>2.0</td>\n",
       "    </tr>\n",
       "    <tr>\n",
       "      <th>530d3f556e633849ac4580c76fdda317</th>\n",
       "      <td>d__Bacteria;p__Bacteroidota;c__Bacteroidia;o__...</td>\n",
       "      <td>Bacteria</td>\n",
       "      <td>Bacteroidota</td>\n",
       "      <td>Bacteroidia</td>\n",
       "      <td>Bacteroidales</td>\n",
       "      <td>Rikenellaceae</td>\n",
       "      <td>Alistipes</td>\n",
       "      <td></td>\n",
       "      <td>0.999795</td>\n",
       "      <td>0</td>\n",
       "      <td>...</td>\n",
       "      <td>0</td>\n",
       "      <td>0</td>\n",
       "      <td>0</td>\n",
       "      <td>0</td>\n",
       "      <td>0</td>\n",
       "      <td>0</td>\n",
       "      <td>0</td>\n",
       "      <td>0</td>\n",
       "      <td>0</td>\n",
       "      <td>2.0</td>\n",
       "    </tr>\n",
       "  </tbody>\n",
       "</table>\n",
       "<p>5350 rows × 187 columns</p>\n",
       "</div>"
      ],
      "text/plain": [
       "                                                                              Taxon  \\\n",
       "668fdb718997fc1589c7817655d4bb5f  d__Bacteria;p__Bacteroidota;c__Bacteroidia;o__...   \n",
       "a3f36ef32153f2fc2aaeac2feb23777f  d__Bacteria;p__Firmicutes;c__Clostridia;o__Osc...   \n",
       "9496d87b94d90dff068f0716603930bd  d__Bacteria;p__Bacteroidota;c__Bacteroidia;o__...   \n",
       "1b158b8b2922d4fcad5d9cea607cbb7d  d__Bacteria;p__Proteobacteria;c__Gammaproteoba...   \n",
       "23fed68c6c76ab10ba1be8a43e9176e7  d__Bacteria;p__Firmicutes;c__Clostridia;o__Osc...   \n",
       "...                                                                             ...   \n",
       "51946b237d59929b4f666bb5229fbacf  d__Bacteria;p__Firmicutes;c__Clostridia;o__Lac...   \n",
       "2707ca30f01ee8e07aa645b208068852  d__Bacteria;p__Proteobacteria;c__Gammaproteoba...   \n",
       "46b10e705d5fbdc5c8d8f3a24249591e  d__Bacteria;p__Firmicutes;c__Clostridia;o__Chr...   \n",
       "4c5ce916f019b3ba5d0fa994d24aee1a  d__Bacteria;p__Proteobacteria;c__Gammaproteoba...   \n",
       "530d3f556e633849ac4580c76fdda317  d__Bacteria;p__Bacteroidota;c__Bacteroidia;o__...   \n",
       "\n",
       "                                    Domain          Phylum  \\\n",
       "668fdb718997fc1589c7817655d4bb5f  Bacteria    Bacteroidota   \n",
       "a3f36ef32153f2fc2aaeac2feb23777f  Bacteria      Firmicutes   \n",
       "9496d87b94d90dff068f0716603930bd  Bacteria    Bacteroidota   \n",
       "1b158b8b2922d4fcad5d9cea607cbb7d  Bacteria  Proteobacteria   \n",
       "23fed68c6c76ab10ba1be8a43e9176e7  Bacteria      Firmicutes   \n",
       "...                                    ...             ...   \n",
       "51946b237d59929b4f666bb5229fbacf  Bacteria      Firmicutes   \n",
       "2707ca30f01ee8e07aa645b208068852  Bacteria  Proteobacteria   \n",
       "46b10e705d5fbdc5c8d8f3a24249591e  Bacteria      Firmicutes   \n",
       "4c5ce916f019b3ba5d0fa994d24aee1a  Bacteria  Proteobacteria   \n",
       "530d3f556e633849ac4580c76fdda317  Bacteria    Bacteroidota   \n",
       "\n",
       "                                                Class               Order  \\\n",
       "668fdb718997fc1589c7817655d4bb5f          Bacteroidia       Bacteroidales   \n",
       "a3f36ef32153f2fc2aaeac2feb23777f           Clostridia     Oscillospirales   \n",
       "9496d87b94d90dff068f0716603930bd          Bacteroidia       Bacteroidales   \n",
       "1b158b8b2922d4fcad5d9cea607cbb7d  Gammaproteobacteria    Enterobacterales   \n",
       "23fed68c6c76ab10ba1be8a43e9176e7           Clostridia     Oscillospirales   \n",
       "...                                               ...                 ...   \n",
       "51946b237d59929b4f666bb5229fbacf           Clostridia      Lachnospirales   \n",
       "2707ca30f01ee8e07aa645b208068852  Gammaproteobacteria     Burkholderiales   \n",
       "46b10e705d5fbdc5c8d8f3a24249591e           Clostridia  Christensenellales   \n",
       "4c5ce916f019b3ba5d0fa994d24aee1a  Gammaproteobacteria     Burkholderiales   \n",
       "530d3f556e633849ac4580c76fdda317          Bacteroidia       Bacteroidales   \n",
       "\n",
       "                                               Family  \\\n",
       "668fdb718997fc1589c7817655d4bb5f       Bacteroidaceae   \n",
       "a3f36ef32153f2fc2aaeac2feb23777f      Ruminococcaceae   \n",
       "9496d87b94d90dff068f0716603930bd       Bacteroidaceae   \n",
       "1b158b8b2922d4fcad5d9cea607cbb7d   Enterobacteriaceae   \n",
       "23fed68c6c76ab10ba1be8a43e9176e7      Ruminococcaceae   \n",
       "...                                               ...   \n",
       "51946b237d59929b4f666bb5229fbacf      Lachnospiraceae   \n",
       "2707ca30f01ee8e07aa645b208068852       Rhodocyclaceae   \n",
       "46b10e705d5fbdc5c8d8f3a24249591e  Christensenellaceae   \n",
       "4c5ce916f019b3ba5d0fa994d24aee1a       Sutterellaceae   \n",
       "530d3f556e633849ac4580c76fdda317        Rikenellaceae   \n",
       "\n",
       "                                                          Genus Species  \\\n",
       "668fdb718997fc1589c7817655d4bb5f                    Bacteroides           \n",
       "a3f36ef32153f2fc2aaeac2feb23777f               Faecalibacterium           \n",
       "9496d87b94d90dff068f0716603930bd                    Bacteroides           \n",
       "1b158b8b2922d4fcad5d9cea607cbb7d           Escherichia-Shigella           \n",
       "23fed68c6c76ab10ba1be8a43e9176e7               Faecalibacterium           \n",
       "...                                                         ...     ...   \n",
       "51946b237d59929b4f666bb5229fbacf                      Roseburia           \n",
       "2707ca30f01ee8e07aa645b208068852                           None    None   \n",
       "46b10e705d5fbdc5c8d8f3a24249591e  Christensenellaceae_R-7_group           \n",
       "4c5ce916f019b3ba5d0fa994d24aee1a                     Sutterella           \n",
       "530d3f556e633849ac4580c76fdda317                      Alistipes           \n",
       "\n",
       "                                  Confidence   206534  ...  222171  224323  \\\n",
       "668fdb718997fc1589c7817655d4bb5f    0.999984      6.0  ...       0  8122.0   \n",
       "a3f36ef32153f2fc2aaeac2feb23777f    0.990108    482.0  ...   843.0  5435.0   \n",
       "9496d87b94d90dff068f0716603930bd    0.999978  11952.0  ...       0    50.0   \n",
       "1b158b8b2922d4fcad5d9cea607cbb7d    0.908560   1536.0  ...    34.0  1926.0   \n",
       "23fed68c6c76ab10ba1be8a43e9176e7    0.996007        0  ...   522.0    33.0   \n",
       "...                                      ...      ...  ...     ...     ...   \n",
       "51946b237d59929b4f666bb5229fbacf    0.765569        0  ...       0       0   \n",
       "2707ca30f01ee8e07aa645b208068852    0.984180        0  ...       0       0   \n",
       "46b10e705d5fbdc5c8d8f3a24249591e    0.822727        0  ...       0       0   \n",
       "4c5ce916f019b3ba5d0fa994d24aee1a    0.988518        0  ...       0       0   \n",
       "530d3f556e633849ac4580c76fdda317    0.999795        0  ...       0       0   \n",
       "\n",
       "                                   224324  224325  224326   224327   224328  \\\n",
       "668fdb718997fc1589c7817655d4bb5f  12783.0  6685.0  5904.0  10805.0  12100.0   \n",
       "a3f36ef32153f2fc2aaeac2feb23777f   4024.0  1374.0  1739.0   6074.0   6076.0   \n",
       "9496d87b94d90dff068f0716603930bd        0       0    10.0   6495.0   8555.0   \n",
       "1b158b8b2922d4fcad5d9cea607cbb7d   2495.0  2329.0  2483.0   4712.0   4008.0   \n",
       "23fed68c6c76ab10ba1be8a43e9176e7     36.0  2154.0  2414.0    471.0    313.0   \n",
       "...                                   ...     ...     ...      ...      ...   \n",
       "51946b237d59929b4f666bb5229fbacf        0       0       0        0        0   \n",
       "2707ca30f01ee8e07aa645b208068852        0       0       0        0        0   \n",
       "46b10e705d5fbdc5c8d8f3a24249591e        0       0       0        0        0   \n",
       "4c5ce916f019b3ba5d0fa994d24aee1a        0       0       0        0        0   \n",
       "530d3f556e633849ac4580c76fdda317        0       0       0        0        0   \n",
       "\n",
       "                                   224330  224844  224845  \n",
       "668fdb718997fc1589c7817655d4bb5f  17885.0  1708.0  6589.0  \n",
       "a3f36ef32153f2fc2aaeac2feb23777f   2694.0  4684.0  9331.0  \n",
       "9496d87b94d90dff068f0716603930bd        0       0       0  \n",
       "1b158b8b2922d4fcad5d9cea607cbb7d     99.0   547.0   299.0  \n",
       "23fed68c6c76ab10ba1be8a43e9176e7     13.0   441.0  1034.0  \n",
       "...                                   ...     ...     ...  \n",
       "51946b237d59929b4f666bb5229fbacf        0       0     2.0  \n",
       "2707ca30f01ee8e07aa645b208068852        0       0     2.0  \n",
       "46b10e705d5fbdc5c8d8f3a24249591e        0       0     2.0  \n",
       "4c5ce916f019b3ba5d0fa994d24aee1a        0       0     2.0  \n",
       "530d3f556e633849ac4580c76fdda317        0       0     2.0  \n",
       "\n",
       "[5350 rows x 187 columns]"
      ]
     },
     "execution_count": 3,
     "metadata": {},
     "output_type": "execute_result"
    }
   ],
   "source": [
    "# Reorder columns to place columns_to_update after the 'Taxon' column\n",
    "cols = ['Taxon'] + columns_to_update + [col for col in otu_taxonomy_merged.columns if col not in ['Taxon'] + columns_to_update]\n",
    "otu_taxonomy_merged = otu_taxonomy_merged[cols]\n",
    "\n",
    "otu_taxonomy_merged"
   ]
  },
  {
   "cell_type": "markdown",
   "metadata": {},
   "source": [
    "#### Exploration"
   ]
  },
  {
   "cell_type": "code",
   "execution_count": 4,
   "metadata": {},
   "outputs": [
    {
     "name": "stdout",
     "output_type": "stream",
     "text": [
      "count    5350.000000\n",
      "mean        0.948876\n",
      "std         0.079536\n",
      "min         0.315809\n",
      "25%         0.927707\n",
      "50%         0.992918\n",
      "75%         0.999658\n",
      "max         1.000000\n",
      "Name: Confidence, dtype: float64\n"
     ]
    }
   ],
   "source": [
    "print(otu_taxonomy_merged['Confidence'].describe())"
   ]
  },
  {
   "cell_type": "code",
   "execution_count": 229,
   "metadata": {},
   "outputs": [
    {
     "data": {
      "text/plain": [
       "<Axes: >"
      ]
     },
     "execution_count": 229,
     "metadata": {},
     "output_type": "execute_result"
    },
    {
     "data": {
      "image/png": "[encoded data removed]",
      "text/plain": [
       "<Figure size 2500x1000 with 2 Axes>"
      ]
     },
     "metadata": {},
     "output_type": "display_data"
    }
   ],
   "source": [
    "import missingno as msno\n",
    "\n",
    "msno.matrix(otu_taxonomy_merged[columns_to_update])"
   ]
  },
  {
   "cell_type": "code",
   "execution_count": 5,
   "metadata": {},
   "outputs": [],
   "source": [
    "# export csv\n",
    "otu_taxonomy_merged.to_csv('otu_with_taxonomy.csv')"
   ]
  },
  {
   "cell_type": "markdown",
   "metadata": {},
   "source": [
    "## **5. Alpha Rarefaction and Selecting a Rarefaction Depth**"
   ]
  },
  {
   "cell_type": "code",
   "execution_count": 17,
   "metadata": {},
   "outputs": [
    {
     "name": "stdout",
     "output_type": "stream",
     "text": [
      "\u001b[32mSaved Visualization to: alpha_rarefaction_curves.qzv\u001b[0m\n",
      "\u001b[0m"
     ]
    }
   ],
   "source": [
    "# calculate rarefaction\n",
    "!qiime diversity alpha-rarefaction \\\n",
    "  --i-table ./dada/table.qza \\\n",
    "  --m-metadata-file metadata.tsv \\\n",
    "\t--p-min-depth 10 \\\n",
    "  --p-max-depth 4900 \\\n",
    "  --o-visualization alpha_rarefaction_curves.qzv"
   ]
  },
  {
   "cell_type": "code",
   "execution_count": 214,
   "metadata": {},
   "outputs": [
    {
     "name": "stdout",
     "output_type": "stream",
     "text": [
      "Press the 'q' key, Control-C, or Control-D to quit. This view may no longer be accessible or work correctly after quitting.Opening in existing browser session.\n",
      "\n",
      "Press the 'q' key, Control-C, or Control-D to quit. This view may no longer be accessible or work correctly after quitting."
     ]
    }
   ],
   "source": [
    "# visualize empress\n",
    "!qiime tools view alpha_rarefaction_curves.qzv"
   ]
  },
  {
   "cell_type": "markdown",
   "metadata": {},
   "source": [
    "## **6. Phylogenetics**"
   ]
  },
  {
   "cell_type": "code",
   "execution_count": 36,
   "metadata": {},
   "outputs": [
    {
     "name": "stdout",
     "output_type": "stream",
     "text": [
      "^C\n",
      "\n",
      "Aborted!\n"
     ]
    }
   ],
   "source": [
    "# Aligning sequences and constructing a phylogenetic tree with QIIME2\n",
    "!qiime phylogeny align-to-tree-mafft-fasttree \\\n",
    "\t--i-sequences dada/representative_sequences.qza \\\n",
    "\t--output-dir tree"
   ]
  },
  {
   "cell_type": "code",
   "execution_count": 14,
   "metadata": {},
   "outputs": [
    {
     "name": "stdout",
     "output_type": "stream",
     "text": [
      "\u001b[32mSaved Visualization to: tree/empress.qzv\u001b[0m\n",
      "\u001b[0m"
     ]
    }
   ],
   "source": [
    "# Visualization for the tree using the empress QIIME 2 plugin\n",
    "!qiime empress tree-plot \\\n",
    "\t--i-tree tree/rooted_tree.qza \\\n",
    "\t--o-visualization tree/empress.qzv"
   ]
  },
  {
   "cell_type": "code",
   "execution_count": 35,
   "metadata": {},
   "outputs": [
    {
     "name": "stdout",
     "output_type": "stream",
     "text": [
      "\u001b[32mExported taxonomy.qza as TSVTaxonomyDirectoryFormat to directory exported_table\u001b[0m\n",
      "\u001b[0m"
     ]
    }
   ],
   "source": [
    "# expoert the table\n",
    "!qiime tools export \\\n",
    "  --input-path taxonomy.qza \\\n",
    "  --output-path exported_table"
   ]
  },
  {
   "cell_type": "code",
   "execution_count": 15,
   "metadata": {},
   "outputs": [
    {
     "name": "stdout",
     "output_type": "stream",
     "text": [
      "Press the 'q' key, Control-C, or Control-D to quit. This view may no longer be accessible or work correctly after quitting.Opening in existing browser session.\n",
      "\n",
      "Press the 'q' key, Control-C, or Control-D to quit. This view may no longer be accessible or work correctly after quitting."
     ]
    }
   ],
   "source": [
    "# visualize empress\n",
    "!qiime tools view tree/empress.qzv"
   ]
  }
 ],
 "metadata": {
  "kernelspec": {
   "display_name": "qiime2-amplicon",
   "language": "python",
   "name": "python3"
  },
  "language_info": {
   "codemirror_mode": {
    "name": "ipython",
    "version": 3
   },
   "file_extension": ".py",
   "mimetype": "text/x-python",
   "name": "python",
   "nbconvert_exporter": "python",
   "pygments_lexer": "ipython3",
   "version": "3.10.14"
  }
 },
 "nbformat": 4,
 "nbformat_minor": 2
}
